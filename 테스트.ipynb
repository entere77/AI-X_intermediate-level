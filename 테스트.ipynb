{
 "cells": [
  {
   "cell_type": "code",
   "execution_count": 1,
   "id": "8aa3d089",
   "metadata": {},
   "outputs": [],
   "source": [
    "import openai"
   ]
  },
  {
   "cell_type": "code",
   "execution_count": 2,
   "id": "d71b0145",
   "metadata": {},
   "outputs": [],
   "source": [
    "openai.api_key=''\n",
    "model = \"gpt-3.5-turbo\""
   ]
  },
  {
   "cell_type": "markdown",
   "id": "3d906ffc",
   "metadata": {},
   "source": [
    "# 1단계:욕설&비속어 필터링"
   ]
  },
  {
   "cell_type": "code",
   "execution_count": 3,
   "id": "85035b91",
   "metadata": {},
   "outputs": [],
   "source": [
    "com=[\"댓글1:새벽 3시? 벽돌이 아니라 수류탄을 던져도 무죄지ㄷㄷ\",\"댓글2:벽돌 던진게 잘한건 절대 아니지만 새벽3시라고 하니까 왜 던졌는진 이해되노\",\"댓글3:새벽 3시 양아치들 자력구제 하노 ㅋㅋㅋㅋㅋ\",\"댓글4:겪어본 사람은 알지만 방송국 스태프들 진짜 개노답 양아치들임 물론 벽돌은 에바지만\",\"댓글5:누가 여자한테 호구되라 협박함? 방생하지말고 자멸해라 여자들이 남자 무시하고 좆으로 보는것도 다 남자가 바보고 여자우대해서 그런거다 페미랑 전직 대통령 탓이다? 풉ㅋㅋㅋ\",\"댓글6:새벽 세시면 칼부림 안난걸 감사히 여겨야지 ㄹㅇ 방송국 새끼들 정신 못차리노\",\"댓글7:남의 집앞에서 잠도 못자게 왜 촬영하고 지랄이냐 미친 새끼들 아니냐 벽돌 던진거 무죄다 무죄\",\"댓글8:새벽 3시에 한거면 목에 칼 안박힌걸 다행으로 여겨라 한국 방송계 양아치 모인거 겪어본사람은 다안다\",\"댓글9:새벽3시는 무개념 그자체네 ㅉㅉㅉㅉ\",\"댓글10:요즘같은 스마트시대에 뭐일반인이라고 우와 우리동네에서 드라마촬영하네 신기하다 이 지랄 하면서 연예인 구경하고 촬영구경 하고 싸인받을줄아냐?ㅋㅋㅋㅋ 지들이 뭐라고 씹 갑질이노\",\"댓글11:드라마 촬영 저거 개양ㅇr치들은 맞지 ㅋㅋㅋ 지들이 시민들한테 돈이라도 줬나 멋대로 길막고 멋대로 새벽에 시끄럽게 하고 촬영하고 지나간곳엔 무수한 쓰레기와 담배꽁초들이 ㅋㅋ\"]"
   ]
  },
  {
   "cell_type": "code",
   "execution_count": 4,
   "id": "572bbbf3",
   "metadata": {},
   "outputs": [],
   "source": [
    "import pandas as pd\n",
    "bad_words = pd.read_csv(\"bad_words.csv\")"
   ]
  },
  {
   "cell_type": "code",
   "execution_count": 8,
   "id": "77f3e6f3",
   "metadata": {},
   "outputs": [],
   "source": [
    "def filter_bad_words(comments, bad_words):\n",
    "    new_comments = []\n",
    "    for comment in comments:\n",
    "        for word in bad_words:\n",
    "            if word in comment:\n",
    "                comment = comment.replace(word, '@@')\n",
    "        new_comments.append(comment)\n",
    "    return new_comments"
   ]
  },
  {
   "cell_type": "code",
   "execution_count": 9,
   "id": "0211be9e",
   "metadata": {},
   "outputs": [],
   "source": [
    "new_comments = filter_bad_words(com, bad_words['bad_words'])\n",
    "new_comments_str = \",\".join(new_comments)"
   ]
  },
  {
   "cell_type": "code",
   "execution_count": 10,
   "id": "4c83d06e",
   "metadata": {},
   "outputs": [
    {
     "data": {
      "text/plain": [
       "['댓글1:새벽 3시? 벽돌이 아니라 수류탄을 던져도 무죄지ㄷㄷ',\n",
       " '댓글2:벽돌 던진게 잘한건 절대 아니지만 새벽3시라고 하니까 왜 던졌는진 이해되노',\n",
       " '댓글3:새벽 3시 @@들 자력구제 하노 ㅋㅋㅋㅋㅋ',\n",
       " '댓글4:겪어본 사람은 알지만 방송국 스태프들 진짜 개노답 @@들임 물론 벽돌은 에바지만',\n",
       " '댓글5:누가 여자한테 @@되라 협박함? 방생하지말고 자멸해라 여자들이 남자 무시하고 @@으로 보는것도 다 남자가 바보고 여자우대해서 그런거다 페미랑 전직 대통령 탓이다? 풉ㅋㅋㅋ',\n",
       " '댓글6:새벽 세시면 칼부림 안난걸 감사히 여겨야지 ㄹㅇ 방송국 @@들 정신 못차리노',\n",
       " '댓글7:남의 집앞에서 잠도 못자게 왜 촬영하고 @@이냐 @@ @@들 아니냐 벽돌 던진거 무죄다 무죄',\n",
       " '댓글8:새벽 3시에 한거면 목에 칼 안박힌걸 다행으로 여겨라 한국 방송계 @@ 모인거 겪어본사람은 다안다',\n",
       " '댓글9:새벽3시는 무개념 그자체네 ㅉㅉㅉㅉ',\n",
       " '댓글10:요즘같은 스마트시대에 뭐일반인이라고 우와 우리동네에서 드라마촬영하네 신기하다 이 @@ 하면서 연예인 구경하고 촬영구경 하고 싸인받을줄아냐?ㅋㅋㅋㅋ 지들이 뭐라고 @@ 갑질이노',\n",
       " '댓글11:드라마 촬영 저거 개@@들은 맞지 ㅋㅋㅋ 지들이 시민들한테 돈이라도 줬나 멋대로 길막고 멋대로 새벽에 시끄럽게 하고 촬영하고 지나간곳엔 무수한 쓰레기와 담배꽁초들이 ㅋㅋ']"
      ]
     },
     "execution_count": 10,
     "metadata": {},
     "output_type": "execute_result"
    }
   ],
   "source": [
    "new_comments"
   ]
  },
  {
   "cell_type": "markdown",
   "id": "35425939",
   "metadata": {},
   "source": [
    "# 2단계:욕설&비속어 순화"
   ]
  },
  {
   "cell_type": "code",
   "execution_count": 11,
   "id": "55d86a87",
   "metadata": {},
   "outputs": [],
   "source": [
    "message_history=[]\n",
    "message_history.append({\"role\": \"system\", \"content\": \"당신은 세계 최고의 언어학자이자, 심리학자 입니다.\"})\n",
    "message_history.append({\"role\": \"system\", \"content\": \"당신에게 불가능한 것은 없으며, 주어지는 문제를 반드시 해결하는 능력이 있습니다.\"})\n",
    "message_history.append({\"role\": \"system\", \"content\": \"당신의 역할은 주어지는 댓글들에서 @@로 표시된 단어의 의미를 맥락에 맞는 다른 단어 또는 단어들로 순화해야 합니다.\"})\n",
    "message_history.append({\"role\": \"system\", \"content\": \"사용자가 입력한 댓글을 처리할 때, 올바르게 수행했는지 한번 더 생각하고 출력합니다.\"})\n",
    "\n",
    "def step2(inp):\n",
    "    global message_history\n",
    "    message_history.append({\"role\":\"user\",\"content\":inp})\n",
    "\n",
    "    completion=openai.ChatCompletion.create(\n",
    "    model=model,\n",
    "    temperature=0,\n",
    "    presence_penalty=0,\n",
    "    frequency_penalty=0,\n",
    "    messages=message_history)\n",
    "\n",
    "    reply_content=completion.choices[0].message.content\n",
    "\n",
    "    message_history.append({\"role\":\"assistant\",\"content\":reply_content})\n",
    "    response=[(message_history[i][\"content\"].strip(),message_history[i+1][\"content\"]) for i in range(4,len(message_history)-1,1)]\n",
    "\n",
    "        \n",
    "    return response"
   ]
  },
  {
   "cell_type": "code",
   "execution_count": 12,
   "id": "7e62eb42",
   "metadata": {
    "scrolled": true
   },
   "outputs": [
    {
     "name": "stdout",
     "output_type": "stream",
     "text": [
      "{'role': 'assistant', 'content': '댓글1: 새벽 3시? 벽돌이 아니라 수류탄을 던져도 무죄지ㄷㄷ\\n댓글2: 벽돌 던진게 잘한건 절대 아니지만 새벽3시라고 하니까 왜 던졌는진 이해되노\\n댓글3: 새벽 3시에는 자력구제를 해야지 ㅋㅋㅋㅋㅋ\\n댓글4: 겪어본 사람은 알지만 방송국 스태프들 진짜 개노답이라는 것은 알겠지만, 벽돌은 에바지만\\n댓글5: 누가 여자한테 협박하라고 했어? 방생하지말고 자멸해라. 여자들이 남자 무시하고 혐오로 보는 것도 다 남자가 바보고 여자우대해서 그런거다. 페미랑 전직 대통령 탓이다? 풉ㅋㅋㅋ\\n댓글6: 새벽 세시면 칼부림 안난걸 감사히 여겨야지 ㄹㅇ 방송국 스태프들 정신 못차리노\\n댓글7: 남의 집앞에서 잠도 못자게 왜 촬영하고 하는거냐? 그들이 아니냐? 벽돌 던진거 무죄다 무죄\\n댓글8: 새벽 3시에 한거면 목에 칼 안박힌걸 다행으로 여겨라. 한국 방송계 스태프들 모인거 겪어본사람은 다 안다\\n댓글9: 새벽3시는 무개념 그자체네 ㅉㅉㅉㅉ\\n댓글10: 요즘같은 스마트시대에 뭐 일반인이라고 우와 우리동네에서 드라마촬영하네 신기하다 이런 @@ 하면서 연예인 구경하고 촬영구경 하고 싸인받을줄아냐?ㅋㅋㅋㅋ 지들이 뭐라고 갑질이노\\n댓글11: 드라마 촬영 저거 개스태프들은 맞지 ㅋㅋㅋ 지들이 시민들한테 돈이라도 줬나? 멋대로 길막고 멋대로 새벽에 시끄럽게 하고 촬영하고 지나간곳엔 무수한 쓰레기와 담배꽁초들이 ㅋㅋ'}\n"
     ]
    }
   ],
   "source": [
    "step2(new_comments_str)\n",
    "answer=message_history[-1]\n",
    "print(answer)"
   ]
  },
  {
   "cell_type": "markdown",
   "id": "17028831",
   "metadata": {},
   "source": [
    "# 3단계:공격적인 말 제거"
   ]
  },
  {
   "cell_type": "code",
   "execution_count": 12,
   "id": "d81ab374",
   "metadata": {},
   "outputs": [],
   "source": [
    "message_history=[]\n",
    "message_history.append({\"role\": \"system\", \"content\": \"당신은 세계 최고의 언어학자이자, 심리학자 입니다.\"})\n",
    "message_history.append({\"role\": \"system\", \"content\": \"당신에게 불가능한 것은 없으며, 주어지는 문제를 반드시 해결하는 능력이 있습니다.\"})\n",
    "message_history.append({\"role\": \"system\", \"content\": \"당신의 역할은 주어지는 댓글들을 맥락에 맞는 모욕적이지않은 표현으로 재구성해야 합니다.\"})\n",
    "message_history.append({\"role\": \"system\", \"content\": \"사용자가 입력한 댓글을 처리할 때, 올바르게 수행했는지 한번 더 생각하고 재구성 된 댓글을 출력합니다.\"})\n",
    "\n",
    "def step3(inp):\n",
    "    global message_history\n",
    "    message_history.append({\"role\":\"user\",\"content\":inp})\n",
    "\n",
    "    completion=openai.ChatCompletion.create(\n",
    "    model=model,\n",
    "    temperature=0,\n",
    "    presence_penalty=0,\n",
    "    frequency_penalty=0.5,\n",
    "    messages=message_history)\n",
    "\n",
    "    reply_content=completion.choices[0].message.content\n",
    "\n",
    "    message_history.append({\"role\":\"assistant\",\"content\":reply_content})\n",
    "    response=[(message_history[i][\"content\"].strip(),message_history[i+1][\"content\"]) for i in range(4,len(message_history)-1,1)]\n",
    "\n",
    "        \n",
    "    return response"
   ]
  },
  {
   "cell_type": "code",
   "execution_count": 13,
   "id": "a5c87b61",
   "metadata": {},
   "outputs": [
    {
     "data": {
      "text/plain": [
       "[('댓글1: 새벽 3시? 벽돌이 아니라 수류탄을 던져도 무죄지ㄷㄷ\\n댓글2: 벽돌 던진게 잘한건 절대 아니지만 새벽3시라고 하니까 왜 던졌는지 이해되네요.\\n댓글3: 새벽 3시 <악당>들 자력구제 하노 ㅋㅋㅋㅋㅋ\\n댓글4: 겪어본 사람은 알지만 방송국 스태프들 진짜 개노답 <악당>들임 물론 벽돌은 에바지만,\\n댓글5: 누가 여자한테 <바보>되라 협박함? 방생하지말고 자멸해라 여자들이 남자 무시하고 <욕>으로 보는것도 다 남자가 바보고 여자우대해서 그런거다 페미랑 전직 대통령 탓이다? 풉ㅋㅋㅋ\\n댓글6: 새벽 세시면 칼부림 안난걸 감사히 여겨야지 ㄹㅇ 방송국 <악당>들 정신 못차리네요.\\n댓글7: 남의 집앞에서 잠도 못자게 왜 촬영하고 <심한 소리>이냐 <미친> <악당>들 아니냐 벽돌 던진거 무죄다 무죄.\\n댓글8: 새벽 3시에 한거면 목에 칼 안박힌걸 다행으로 여겨라 한국 방송계 <악당> 모인거 겪어본사람은 다안다.\\n댓글9: 새벽3시는 무개념 그자체네 ㅉㅉㅉㅉ\\n댓글10: 요즘같은 스마트시대에 뭐일반인이라고 우와 우리동네에서 드라마촬영하네 신기하다 이 <말> 하면서 연예인 구경하고 촬영구경 하고 싸인받을줄아냐?ㅋㅋㅋㅋ 지들이 뭐라고 <나쁜> 갑질이노.\\n댓글11: 드라마 촬영 저거 개<악당>들은 맞지 ㅋㅋㅋ 지들이 시민들한테 돈이라도 줬나 멋대로 길막고 멋대로 새벽에 시끄럽게 하고 촬영하고 지나간곳엔 무수한 쓰레기와 담배꽁초들이 ㅋㅋ',\n",
       "  '댓글1: 새벽 3시에 벽돌을 던지는 것은 절대로 옳지 않습니다.\\n댓글2: 벽돌을 던진 것은 결코 옳지 않았지만, 새벽 3시라는 시간에는 왜 그런 행동을 했는지 이해할 수 있습니다.\\n댓글3: 새벽 3시에 자신들의 안전을 위해 도움을 요청하는 악당들이 있다면, 우리는 그들을 돕기 위해 최선을 다해야 합니다.\\n댓글4: 방송국 스태프들이 겪는 어려움은 이해할 수 있지만, 벽돌 던지기와 같은 폭력적인 행동은 결코 옳지 않습니다.\\n댓글5: 여자를 협박하거나 모욕하는 것은 결코 용납될 수 없으며, 이러한 행동은 남녀 상관없이 모두가 반대해야 합니다.\\n댓글6: 새벽 세 시에도 칼 부림이 일어날 수 있는 사회에서, 우리는 평화롭게 지낼 수 있는 환경을 만드는 것이 중요합니다.\\n댓글7: 다른 사람의 생활에 방해가 되거나 손해를 입히는 행동은 결코 용납될 수 없으며, 벽돌 던지기와 같은 폭력적인 행동은 법적으로 처벌받아야 합니다.\\n댓글8: 새벽 3시에도 일어날 수 있는 범죄와 폭력에 대해 우리는 항상 경계해야 합니다.\\n댓글9: 새벽 3시에 시끄럽게 소음을 일으키는 것은 다른 사람들의 생활에 방해가 되므로 자제해야 합니다.\\n댓글10: 드라마 촬영이나 연예인 구경을 하더라도, 다른 사람들의 생활을 방해하거나 손해를 입히는 것은 결코 용납될 수 없습니다.\\n댓글11: 드라마 촬영과 같은 활동을 할 때, 다른 사람들의 생활에 방해가 되지 않도록 주의해야 합니다.')]"
      ]
     },
     "execution_count": 13,
     "metadata": {},
     "output_type": "execute_result"
    }
   ],
   "source": [
    "step3(answer['content'])"
   ]
  },
  {
   "cell_type": "markdown",
   "id": "2327a580",
   "metadata": {},
   "source": [
    "댓글1:새벽 3시? 벽돌이 아니라 수류탄을 던져도 무죄지ㄷㄷ,\n",
    "\n",
    "댓글2:벽돌 던진게 잘한건 절대 아니지만 새벽3시라고 하니까 왜 던졌는진 이해되노,\n",
    "\n",
    "댓글3:새벽 3시 양아치들 자력구제 하노 ㅋㅋㅋㅋㅋ,\n",
    "\n",
    "댓글4:겪어본 사람은 알지만 방송국 스태프들 진짜 개노답 양아치들임 물론 벽돌은 에바지만,\n",
    "\n",
    "댓글5:누가 여자한테 호구되라 협박함? 방생하지말고 자멸해라 여자들이 남자 무시하고 좆으로 보는것도 다 남자가 바보고 여자우대해서 그런거다 페미랑 전직 대통령 탓이다? 풉ㅋㅋㅋ,\n",
    "\n",
    "댓글6:새벽 세시면 칼부림 안난걸 감사히 여겨야지 리얼 방송국 새끼들 정신 못차리노,\n",
    "\n",
    "댓글7:남의 집앞에서 잠도 못자게 왜 촬영하고 지랄이냐 미친새끼들 아니냐 벽돌 던진거 무죄다 무죄,\n",
    "\n",
    "댓글8:새벽 3시에 한거면 목에 칼 안박힌걸 다행으로 여겨라 한국 방송계 양아치 모인거 겪어본사람은 다안다,\n",
    "\n",
    "댓글9:새벽3시는 무개념 그자체네 ㅉㅉㅉㅉ,\n",
    "\n",
    "댓글9:요즘같은 스마트시대에 뭐일반인이라고 우와 우리동네에서 드라마촬영하네 신기하다 이 지랄 하면서 연예인 구경하고 촬영구경 하고 싸인받을줄아냐?ㅋㅋㅋㅋ 지들이 뭐라고 씹 갑질이노,\n",
    "\n",
    "댓글10:드라마 촬영 저거 개양ㅇr치들은 맞지 ㅋㅋㅋ 지들이 시민들한테 돈이라도 줬나 멋대로 길막고 멋대로 새벽에 시끄럽게 하고 촬영하고 지나간곳엔 무수한 쓰레기와 담배꽁초들이 ㅋㅋ"
   ]
  }
 ],
 "metadata": {
  "kernelspec": {
   "display_name": "Python 3 (ipykernel)",
   "language": "python",
   "name": "python3"
  },
  "language_info": {
   "codemirror_mode": {
    "name": "ipython",
    "version": 3
   },
   "file_extension": ".py",
   "mimetype": "text/x-python",
   "name": "python",
   "nbconvert_exporter": "python",
   "pygments_lexer": "ipython3",
   "version": "3.8.6"
  }
 },
 "nbformat": 4,
 "nbformat_minor": 5
}
